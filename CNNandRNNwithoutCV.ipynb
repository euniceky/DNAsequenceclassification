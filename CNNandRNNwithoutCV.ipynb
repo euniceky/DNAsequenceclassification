{
 "cells": [
  {
   "cell_type": "code",
   "execution_count": 1,
   "metadata": {},
   "outputs": [
    {
     "name": "stderr",
     "output_type": "stream",
     "text": [
      "Using TensorFlow backend.\n"
     ]
    }
   ],
   "source": [
    "import numpy as np\n",
    "import pandas as pd\n",
    "import matplotlib.pyplot as plt\n",
    "\n",
    "from keras.models import Sequential\n",
    "from keras.layers import Dense\n",
    "from keras.layers import Dropout\n",
    "from keras.layers import LSTM\n",
    "from keras.layers import Conv1D\n",
    "from keras.layers import MaxPool1D\n",
    "from keras.layers import Flatten\n",
    "from keras.utils import to_categorical\n",
    "\n",
    "from keras.callbacks import EarlyStopping\n",
    "from keras.wrappers.scikit_learn import KerasClassifier\n",
    "from keras.callbacks import History\n",
    "from keras.models import load_model\n",
    "\n",
    "from sklearn.model_selection import train_test_split\n",
    "from sklearn.model_selection import RandomizedSearchCV\n",
    "\n",
    "from scipy.stats import randint"
   ]
  },
  {
   "cell_type": "code",
   "execution_count": 2,
   "metadata": {},
   "outputs": [],
   "source": [
    "data = np.load(\"dataset.npy\", allow_pickle=True).item()\n",
    "xs = data[\"genes\"] # [n_sample, arbitrary length string object]\n",
    "ys = data[\"resistant\"] # [n_sample, bool]"
   ]
  },
  {
   "cell_type": "code",
   "execution_count": 3,
   "metadata": {},
   "outputs": [],
   "source": [
    "df=pd.DataFrame({\"Gene\":xs, \"Resistance\":ys})"
   ]
  },
  {
   "cell_type": "code",
   "execution_count": 4,
   "metadata": {},
   "outputs": [],
   "source": [
    "char_to_int={\"A\": 0, \"C\": 1, \"G\":2, \"T\":3, \"Q\":4} \n",
    "def geneint(word):\n",
    "    return np.array([char_to_int[char] for char in word])"
   ]
  },
  {
   "cell_type": "code",
   "execution_count": 5,
   "metadata": {},
   "outputs": [],
   "source": [
    "df[\"Gene_padded\"]=df.Gene.apply(lambda x : x.ljust(906,\"Q\"))"
   ]
  },
  {
   "cell_type": "code",
   "execution_count": 6,
   "metadata": {},
   "outputs": [],
   "source": [
    "gene_int=df.Gene_padded.apply(geneint)\n",
    "resistance_int=to_categorical(df.Resistance)\n",
    "x_input=np.stack(gene_int.values)"
   ]
  },
  {
   "cell_type": "code",
   "execution_count": 7,
   "metadata": {},
   "outputs": [],
   "source": [
    "#train, test = train_test_split(xspd, train_size=0.8)\n",
    "x_train, x_test, y_train, y_test = train_test_split(x_input.reshape(100000,906,1), np.asarray(resistance_int).reshape(100000,2), test_size=0.2, shuffle= True)\n"
   ]
  },
  {
   "cell_type": "code",
   "execution_count": null,
   "metadata": {},
   "outputs": [],
   "source": [
    "### WITH DROPOUT\n",
    "model1 = Sequential()\n",
    "model1.add(Conv1D(filters=5, kernel_size=3, activation=\"relu\", input_shape=(906,1)))\n",
    "model1.add(MaxPool1D(pool_size=2))\n",
    "model1.add(Conv1D(filters=10, kernel_size=3, activation=\"relu\", input_shape=(906,1)))\n",
    "model1.add(MaxPool1D(pool_size=2))\n",
    "model1.add(Flatten())\n",
    "model1.add(Dropout(0.3))\n",
    "model1.add(Dense(32, activation=\"relu\"))\n",
    "model1.add(Dropout(0.3))\n",
    "model1.add(Dense(2, activation=\"softmax\"))\n",
    "model1.compile(optimizer=\"adam\", loss=\"categorical_crossentropy\", metrics=[\"accuracy\"])"
   ]
  },
  {
   "cell_type": "code",
   "execution_count": 60,
   "metadata": {},
   "outputs": [
    {
     "name": "stdout",
     "output_type": "stream",
     "text": [
      "_________________________________________________________________\n",
      "Layer (type)                 Output Shape              Param #   \n",
      "=================================================================\n",
      "conv1d_15 (Conv1D)           (None, 904, 5)            20        \n",
      "_________________________________________________________________\n",
      "max_pooling1d_15 (MaxPooling (None, 452, 5)            0         \n",
      "_________________________________________________________________\n",
      "conv1d_16 (Conv1D)           (None, 450, 10)           160       \n",
      "_________________________________________________________________\n",
      "max_pooling1d_16 (MaxPooling (None, 225, 10)           0         \n",
      "_________________________________________________________________\n",
      "flatten_11 (Flatten)         (None, 2250)              0         \n",
      "_________________________________________________________________\n",
      "dropout_12 (Dropout)         (None, 2250)              0         \n",
      "_________________________________________________________________\n",
      "dense_16 (Dense)             (None, 32)                72032     \n",
      "_________________________________________________________________\n",
      "dropout_13 (Dropout)         (None, 32)                0         \n",
      "_________________________________________________________________\n",
      "dense_17 (Dense)             (None, 2)                 66        \n",
      "=================================================================\n",
      "Total params: 72,278\n",
      "Trainable params: 72,278\n",
      "Non-trainable params: 0\n",
      "_________________________________________________________________\n"
     ]
    }
   ],
   "source": [
    "model1.summary()"
   ]
  },
  {
   "cell_type": "code",
   "execution_count": 61,
   "metadata": {},
   "outputs": [
    {
     "name": "stdout",
     "output_type": "stream",
     "text": [
      "Train on 80000 samples, validate on 20000 samples\n",
      "Epoch 1/30\n",
      "80000/80000 [==============================] - 89s 1ms/step - loss: 0.3611 - acc: 0.7467 - val_loss: 0.3471 - val_acc: 0.7510\n",
      "Epoch 2/30\n",
      "80000/80000 [==============================] - 76s 950us/step - loss: 0.3469 - acc: 0.7505 - val_loss: 0.3471 - val_acc: 0.7510\n",
      "Epoch 3/30\n",
      "80000/80000 [==============================] - 81s 1ms/step - loss: 0.3468 - acc: 0.7499 - val_loss: 0.3471 - val_acc: 0.7510\n",
      "Epoch 4/30\n",
      "80000/80000 [==============================] - 66s 825us/step - loss: 0.3468 - acc: 0.7484 - val_loss: 0.3471 - val_acc: 0.7483\n",
      "Epoch 5/30\n",
      "80000/80000 [==============================] - 42s 525us/step - loss: 0.3466 - acc: 0.7499 - val_loss: 0.3471 - val_acc: 0.7510\n"
     ]
    }
   ],
   "source": [
    "early=EarlyStopping(patience=3)\n",
    "history1=model1.fit(x_train, y_train, validation_data=(x_test, y_test), epochs=30, callbacks=[early])"
   ]
  },
  {
   "cell_type": "code",
   "execution_count": 65,
   "metadata": {},
   "outputs": [
    {
     "data": {
      "image/png": "[encoded data removed]",
      "text/plain": [
       "<Figure size 432x288 with 1 Axes>"
      ]
     },
     "metadata": {
      "needs_background": "light"
     },
     "output_type": "display_data"
    }
   ],
   "source": [
    "plt.plot(range(1,6),history1.history[\"acc\"], label=\"train\")\n",
    "plt.plot(range(1,6),history1.history[\"val_acc\"], label=\"validate\")\n",
    "plt.xlabel(\"Epochs\")\n",
    "plt.ylabel(\"Accuracy\")\n",
    "plt.legend()\n",
    "plt.show()model.fit(x_train, y_train, validation_data=(x_test, y_test)"
   ]
  },
  {
   "cell_type": "code",
   "execution_count": 49,
   "metadata": {},
   "outputs": [],
   "source": [
    "model.save(\"CNN_Drop_noCV.h5\")"
   ]
  },
  {
   "cell_type": "code",
   "execution_count": null,
   "metadata": {},
   "outputs": [],
   "source": []
  },
  {
   "cell_type": "code",
   "execution_count": 63,
   "metadata": {},
   "outputs": [],
   "source": [
    "###WITHOUT DROPOUT\n",
    "model2 = Sequential()\n",
    "model2.add(Conv1D(filters=5, kernel_size=3, activation=\"relu\", input_shape=(906,1)))\n",
    "model2.add(MaxPool1D(pool_size=2))\n",
    "model2.add(Conv1D(filters=10, kernel_size=3, activation=\"relu\", input_shape=(906,1)))\n",
    "model2.add(MaxPool1D(pool_size=2))\n",
    "model2.add(Flatten())\n",
    "model2.add(Dense(32, activation=\"relu\"))\n",
    "model2.add(Dense(2, activation=\"softmax\"))\n",
    "model2.compile(optimizer=\"adam\", loss=\"categorical_crossentropy\", metrics=[\"accuracy\"])\n",
    "\n"
   ]
  },
  {
   "cell_type": "code",
   "execution_count": null,
   "metadata": {},
   "outputs": [],
   "source": [
    "early=EarlyStopping(patience=3)\n",
    "history2=model2.fit(x_train, y_train, validation_data=(x_test, y_test), epochs=30, callbacks=[early])"
   ]
  },
  {
   "cell_type": "code",
   "execution_count": 68,
   "metadata": {},
   "outputs": [
    {
     "name": "stdout",
     "output_type": "stream",
     "text": [
      "[0.84575, 0.9445, 0.9678, 0.9662, 0.97915, 0.9846, 0.99035, 0.9918, 0.9933, 0.99485, 0.90835, 0.99455, 0.99495, 0.99595, 0.99435, 0.993, 0.9957, 0.9951, 0.99535, 0.991, 0.9858, 0.99455]\n"
     ]
    }
   ],
   "source": [
    "print(history2.history[\"val_acc\"])"
   ]
  },
  {
   "cell_type": "code",
   "execution_count": 67,
   "metadata": {},
   "outputs": [
    {
     "data": {
      "image/png": "[encoded data removed]",
      "text/plain": [
       "<Figure size 432x288 with 1 Axes>"
      ]
     },
     "metadata": {
      "needs_background": "light"
     },
     "output_type": "display_data"
    }
   ],
   "source": [
    "plt.plot(range(1,23),history2.history[\"acc\"], label=\"train\")\n",
    "plt.plot(range(1,23),history2.history[\"val_acc\"], label=\"validate\")\n",
    "plt.xlabel(\"Epochs\")\n",
    "plt.ylabel(\"Accuracy\")\n",
    "plt.legend()\n",
    "plt.show()"
   ]
  },
  {
   "cell_type": "code",
   "execution_count": 69,
   "metadata": {},
   "outputs": [
    {
     "data": {
      "image/png": "[encoded data removed]",
      "text/plain": [
       "<Figure size 432x288 with 1 Axes>"
      ]
     },
     "metadata": {
      "needs_background": "light"
     },
     "output_type": "display_data"
    }
   ],
   "source": [
    "plt.plot(range(1,23),history2.history[\"loss\"], label=\"train\")\n",
    "plt.plot(range(1,23),history2.history[\"val_loss\"], label=\"validate\")\n",
    "plt.xlabel(\"Epochs\")\n",
    "plt.ylabel(\"Loss\")\n",
    "plt.legend()\n",
    "plt.show()"
   ]
  },
  {
   "cell_type": "code",
   "execution_count": 71,
   "metadata": {},
   "outputs": [],
   "source": [
    "model2.save(\"CNN_noDrop_noCV.h5\")"
   ]
  },
  {
   "cell_type": "code",
   "execution_count": 70,
   "metadata": {},
   "outputs": [
    {
     "name": "stdout",
     "output_type": "stream",
     "text": [
      "_________________________________________________________________\n",
      "Layer (type)                 Output Shape              Param #   \n",
      "=================================================================\n",
      "conv1d_19 (Conv1D)           (None, 904, 5)            20        \n",
      "_________________________________________________________________\n",
      "max_pooling1d_19 (MaxPooling (None, 452, 5)            0         \n",
      "_________________________________________________________________\n",
      "conv1d_20 (Conv1D)           (None, 450, 10)           160       \n",
      "_________________________________________________________________\n",
      "max_pooling1d_20 (MaxPooling (None, 225, 10)           0         \n",
      "_________________________________________________________________\n",
      "flatten_13 (Flatten)         (None, 2250)              0         \n",
      "_________________________________________________________________\n",
      "dense_20 (Dense)             (None, 32)                72032     \n",
      "_________________________________________________________________\n",
      "dense_21 (Dense)             (None, 2)                 66        \n",
      "=================================================================\n",
      "Total params: 72,278\n",
      "Trainable params: 72,278\n",
      "Non-trainable params: 0\n",
      "_________________________________________________________________\n"
     ]
    }
   ],
   "source": [
    "model2.summary()"
   ]
  },
  {
   "cell_type": "code",
   "execution_count": 24,
   "metadata": {},
   "outputs": [],
   "source": [
    "### RNN \n",
    "small_df=df.sample(frac=0.2)\n",
    "small_gene_int=small_df.Gene_padded.apply(geneint)\n",
    "small_resistance_int=to_categorical(small_df.Resistance)\n",
    "small_x_input=np.stack(small_gene_int.values)\n",
    "#train, test = train_test_split(xspd, train_size=0.8)\n",
    "sx_train, sx_test, sy_train, sy_test = train_test_split(small_x_input.reshape(20000,906,1), np.asarray(small_resistance_int).reshape(20000,2), test_size=0.2, shuffle= True)\n"
   ]
  },
  {
   "cell_type": "code",
   "execution_count": 25,
   "metadata": {},
   "outputs": [],
   "source": [
    "model3 = Sequential()\n",
    "model3.add(LSTM(32, batch_input_shape=(None, 906, 1), return_sequences=True))\n",
    "model3.add(LSTM(32, batch_input_shape=(None, 906, 1), return_sequences=True)) \n",
    "model3.add(Dropout(0.3))\n",
    "model3.add(Flatten())\n",
    "model3.add(Dense(2, activation=\"softmax\"))\n",
    "model3.compile(\"adam\", \"binary_crossentropy\", metrics=[\"accuracy\"])\n"
   ]
  },
  {
   "cell_type": "code",
   "execution_count": 38,
   "metadata": {},
   "outputs": [
    {
     "name": "stdout",
     "output_type": "stream",
     "text": [
      "_________________________________________________________________\n",
      "Layer (type)                 Output Shape              Param #   \n",
      "=================================================================\n",
      "lstm_5 (LSTM)                (None, 906, 32)           4352      \n",
      "_________________________________________________________________\n",
      "lstm_6 (LSTM)                (None, 906, 32)           8320      \n",
      "_________________________________________________________________\n",
      "dropout_5 (Dropout)          (None, 906, 32)           0         \n",
      "_________________________________________________________________\n",
      "flatten_6 (Flatten)          (None, 28992)             0         \n",
      "_________________________________________________________________\n",
      "dense_7 (Dense)              (None, 2)                 57986     \n",
      "=================================================================\n",
      "Total params: 70,658\n",
      "Trainable params: 70,658\n",
      "Non-trainable params: 0\n",
      "_________________________________________________________________\n"
     ]
    }
   ],
   "source": [
    "model3.summary()"
   ]
  },
  {
   "cell_type": "code",
   "execution_count": null,
   "metadata": {},
   "outputs": [],
   "source": [
    "model3.fit(sx_train, sy_train, epochs=20, verbose = 1)"
   ]
  },
  {
   "cell_type": "code",
   "execution_count": 30,
   "metadata": {},
   "outputs": [
    {
     "name": "stdout",
     "output_type": "stream",
     "text": [
      "4000/4000 [==============================] - 43s 11ms/step\n",
      "acc: 88.55%\n"
     ]
    }
   ],
   "source": [
    "scores=model3.evaluate(sx_test, sy_test)\n",
    "print(\"%s: %.2f%%\" % (model3.metrics_names[1], scores[1]*100))"
   ]
  },
  {
   "cell_type": "code",
   "execution_count": null,
   "metadata": {},
   "outputs": [],
   "source": [
    "model3.save(\"RNN.h5\")"
   ]
  },
  {
   "cell_type": "code",
   "execution_count": 37,
   "metadata": {},
   "outputs": [
    {
     "data": {
      "image/png": "[encoded data removed]",
      "text/plain": [
       "<Figure size 432x288 with 1 Axes>"
      ]
     },
     "metadata": {
      "needs_background": "light"
     },
     "output_type": "display_data"
    }
   ],
   "source": [
    "plt.plot(range(1,21),model3.history.history['acc'], label='train')\n",
    "plt.xlabel(\"Epochs\")\n",
    "plt.ylabel(\"Accuracy\")\n",
    "plt.legend()\n",
    "plt.show()"
   ]
  },
  {
   "cell_type": "code",
   "execution_count": null,
   "metadata": {},
   "outputs": [],
   "source": []
  }
 ],
 "metadata": {
  "kernelspec": {
   "display_name": "Python 3",
   "language": "python",
   "name": "python3"
  },
  "language_info": {
   "codemirror_mode": {
    "name": "ipython",
    "version": 3
   },
   "file_extension": ".py",
   "mimetype": "text/x-python",
   "name": "python",
   "nbconvert_exporter": "python",
   "pygments_lexer": "ipython3",
   "version": "3.6.8"
  }
 },
 "nbformat": 4,
 "nbformat_minor": 2
}
