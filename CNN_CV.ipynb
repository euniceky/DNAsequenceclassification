{
 "cells": [
  {
   "cell_type": "code",
   "execution_count": 201,
   "metadata": {},
   "outputs": [],
   "source": [
    "import numpy as np\n",
    "import pandas as pd\n",
    "import matplotlib.pyplot as plt\n",
    "\n",
    "from keras.models import Sequential\n",
    "from keras.layers import Dense\n",
    "from keras.layers import Dropout\n",
    "from keras.layers import LSTM\n",
    "from keras.layers import Conv1D\n",
    "from keras.layers import MaxPool1D\n",
    "from keras.layers import Flatten\n",
    "from keras.utils import to_categorical\n",
    "\n",
    "from keras.callbacks import EarlyStopping\n",
    "from keras.wrappers.scikit_learn import KerasClassifier\n",
    "from keras.callbacks import History\n",
    "from keras.models import load_model\n",
    "\n",
    "from sklearn.model_selection import train_test_split\n",
    "from sklearn.model_selection import RandomizedSearchCV\n",
    "\n",
    "from scipy.stats import randint"
   ]
  },
  {
   "cell_type": "markdown",
   "metadata": {},
   "source": [
    "### Summary: \n",
    "\n",
    "- This project aims to build neural network models to classify the resistance status of genes against a certain drug. The given dataset contains 100,000 gene sequences and their resistance (T/F). \n",
    "\n",
    "### Data preparation: \n",
    "\n",
    "- The DNA bases (characters) are converted to integers.\n",
    "- The genes were padded to have equal lengths. \n",
    "- The resistance is one-hot encoded.\n",
    "\n",
    "### Models in CNNandRNNwithoutCV.ipynb: \n",
    "\n",
    "- In a separate notebook, we built <b>model1 </b> which was a CNN with dropout layers. This model had an underfitting issue.\n",
    "\n",
    "- In a separate notebook, we built <b> model2 </b> which was a CNN without dropouts. Although the hyperparameters were randomly chosen, this model produced the <b> best result (99.46% accuracy)</b>.\n",
    "\n",
    "- In a separate notebook, we built <b> model3 </b> which was an RNN. We did not have a GPU, and we downsampled and worked with 20,000 data points.\n",
    "- This initial build did not perform as well compared to CNN models. \n",
    "- We did not pursue this route further as the computation cost for RNNs is high. \n",
    "\n",
    "### Model in this notebook: \n",
    "\n",
    "- This notebook contains a CNN <b> model </b> which has two filter layers, two pooling layers, and one hidden layer. \n",
    "- We performed 5-fold cross-validation on the training set to find the best hyperparameters. \n",
    "- The hyperparameters are: the number of filters, the filter sizes (kernel sizes), the pooling size, the number of neurons in the hidden layer (units), and the optimizer. \n",
    "- With the best parameters, the <b> model </b> predicts the resistance with <b> 97.13% accuracy </b>.\n",
    "- The 5-fold cv validation score is 95.28% which is not too far off from the test score of 97.13%. The validation score can be slightly lower than the test score since each fold sees different parts of data during cross-validation. The cv score is a better estimate how the model will perform for unseen data. "
   ]
  },
  {
   "cell_type": "code",
   "execution_count": 2,
   "metadata": {},
   "outputs": [],
   "source": [
    "# Read the data set\n",
    "data = np.load(\"dataset.npy\", allow_pickle=True).item()\n",
    "xs = data[\"genes\"] # [n_sample, arbitrary length string object]\n",
    "ys = data[\"resistant\"] # [n_sample, bool]"
   ]
  },
  {
   "cell_type": "code",
   "execution_count": 3,
   "metadata": {},
   "outputs": [
    {
     "data": {
      "text/plain": [
       "(100000,)"
      ]
     },
     "execution_count": 3,
     "metadata": {},
     "output_type": "execute_result"
    }
   ],
   "source": [
    "# Check the data size\n",
    "xs.shape"
   ]
  },
  {
   "cell_type": "code",
   "execution_count": 4,
   "metadata": {},
   "outputs": [
    {
     "data": {
      "text/plain": [
       "array(['ATGCACTACCGTATGATTCACTGGATGATGGAAATTGACTGCAATGGCTGCGCTAATAATACTTTGTCTCGTCGTTGGAATTACGACTTCTGGCACAAACACGTTGAACAGGTTAAATGCTACCGTCACAATATTCGTGACCAGACTGAAGTTATTGAATGCGGCTTGGAAGTTAATTGCTTGGAACAGTCTCGTATTCAGATTTCTCCCGTTCGTCCCAAACGTCCCGCTCACAAAGCTAATATTATGTGGACTATTGACGACGCTTTCTTGCACAAACACAAAATTAATTGCGCTTCTTTCGACAATATTGACGCTGACTTCCGTCAGGACGCTTTCCAGCACAAACGTCGTTTGCCCTGGCACACTTACGAATTCCACCCCCGTATGGAACCCCACTGGTGCTTGCCCGGCAATAATTACATGCACGCTGCTTACCCCAAAGACCACGGCATTAAATTCGCTTGGTTGAATCGTAAATACACTACTTACAATCACTGCGACACTTTCACTACTACTTGCTGCTTCGCTGCTTGGTGCAATGGCGAAATGACTGGCTTCTACTGCGGCATGTCTTCTGCTAAAGGCTCTGACTACGAATGGGACTGGTACCACTACAAAGCTATTCACGTTATTGCTATGGTTTTGGACCACTCTTCTTACACTTGCGCTTCTAATTTCTTCAAAAAAGACTGGTCTTCTGACTACGCTTACATGACTATTGAAGGCATTTACGACTCTGACGTTCAGGTTTGCGACTCTAAAGAAGCTGAAGCTCAGTCTTACATTCACGACACTGCTTCTAATTGGCAGGGCGGCCCCTGGATTTGCGCTCGTGCTTTCTCTTGGGAAGACACTACTAATCAGGGCGACAAATTCACTCAGGACGCTTACGCTTGA',\n",
       "       'ATGCACTACCGTATGATTCACTGGATGATGGAAATTGACTGCAATGGCTGCGCTAATAATACTTTGTCTCGTCGTTGGAATTACGACTTCTGGCACAAACACGTTGAACAGGTTAAATGCTACCGTCACAATATTCGTGACCAGACTGAAGTTATTGAATGCGGCTTGGAAGTTAATTGCTTGGAACAGTCTCGTATTCAGATTTCTCCCGTTCGTCCCAAACGTCCCGCTCACAAAGCTAATATTATGTGGACTATTGACGACGCTTTCTTGCACAAACACAAAAATTGCGCTTCTTTCGACAATATTGACGCTGACTTCCGTCAGGACGCTTTCCAGCACAAACGTCGTTTGCCCTGGCACACTTACGAATTCCACCCCCGTATGGAACCCCACTGGTGCTTGCCCGGCAATAATTACATGCACGCTGCTTACCCCAAAGACCACGGCATTAAATTCGCTTGGTTGAATCGTAAATACACTACTTACAATCACTGCGACACTTTCACTACTACTTGCTGCTTCGCTGCTTGGTGCAATGGCGAAATGACTGGCTTCTACTGCGGCATGTCTTCTGCTAAAGGCTCTGACTACGAATGGGACTGGTACCACTACAAAGCTATTCACGTTATTGCTATGGTTTTGGACCACTCTTCTTACACTTGCGCTTCTAATTTCTTCAAAAAAGACTGGTCTTCTGACTACGCTTACATGACTATTGAAGGCATTTACGACTCTGACGTTCAGGTTTGCGACTCTAAAGAAGCTGAAGCTCAGTCTTACATTCACGACACTGCTTCTAATTGGCAGGGCGGCCCCTGGATTTGCGCTCGTGCTTTCTCTTGGGAAGACACTACTAATCAGGGCGACAAATTCACTCAGGACGCTTACGCTTGA'],\n",
       "      dtype=object)"
      ]
     },
     "execution_count": 4,
     "metadata": {},
     "output_type": "execute_result"
    }
   ],
   "source": [
    "# Check the first two entries of xs\n",
    "xs[:2]"
   ]
  },
  {
   "cell_type": "code",
   "execution_count": 5,
   "metadata": {},
   "outputs": [
    {
     "data": {
      "text/plain": [
       "array([False, False])"
      ]
     },
     "execution_count": 5,
     "metadata": {},
     "output_type": "execute_result"
    }
   ],
   "source": [
    "# Check the first two entries of xs\n",
    "ys[:2]"
   ]
  },
  {
   "cell_type": "code",
   "execution_count": null,
   "metadata": {},
   "outputs": [],
   "source": [
    "# Put the data into a Pandas dataframe so that we can apply functions \n",
    "df=pd.DataFrame({\"Gene\":xs, \"Resistance\":ys})\n",
    "# Check if each gene has the same length \n",
    "df[\"Gene_length\"]=df.Gene.apply(len)"
   ]
  },
  {
   "cell_type": "code",
   "execution_count": 9,
   "metadata": {},
   "outputs": [
    {
     "data": {
      "text/plain": [
       "894     6426\n",
       "895     3142\n",
       "896     3100\n",
       "897     6228\n",
       "898     3053\n",
       "899     3115\n",
       "900    50011\n",
       "901     3084\n",
       "902     3200\n",
       "903     6297\n",
       "904     3129\n",
       "905     3144\n",
       "906     6071\n",
       "Name: Gene_length, dtype: int64"
      ]
     },
     "execution_count": 9,
     "metadata": {},
     "output_type": "execute_result"
    }
   ],
   "source": [
    "df.Gene_length.value_counts().sort_index()"
   ]
  },
  {
   "cell_type": "code",
   "execution_count": 10,
   "metadata": {},
   "outputs": [],
   "source": [
    "# To put each gene as an input to CNN, the length of the genes must be the same.\n",
    "# We pad the genes so that they all have length 906 which equals the longest gene sequence in the dataset.\n",
    "# Q is a \"dummy DNA base\" that we use to fix the gene length.\n",
    "df[\"Gene_padded\"]=df.Gene.apply(lambda x : x.ljust(906,\"Q\"))"
   ]
  },
  {
   "cell_type": "code",
   "execution_count": 329,
   "metadata": {},
   "outputs": [
    {
     "data": {
      "text/html": [
       "<div>\n",
       "<style scoped>\n",
       "    .dataframe tbody tr th:only-of-type {\n",
       "        vertical-align: middle;\n",
       "    }\n",
       "\n",
       "    .dataframe tbody tr th {\n",
       "        vertical-align: top;\n",
       "    }\n",
       "\n",
       "    .dataframe thead th {\n",
       "        text-align: right;\n",
       "    }\n",
       "</style>\n",
       "<table border=\"1\" class=\"dataframe\">\n",
       "  <thead>\n",
       "    <tr style=\"text-align: right;\">\n",
       "      <th></th>\n",
       "      <th>Gene</th>\n",
       "      <th>Resistance</th>\n",
       "      <th>Gene_length</th>\n",
       "      <th>Gene_padded</th>\n",
       "    </tr>\n",
       "  </thead>\n",
       "  <tbody>\n",
       "    <tr>\n",
       "      <th>0</th>\n",
       "      <td>ATGCACTACCGTATGATTCACTGGATGATGGAAATTGACTGCAATG...</td>\n",
       "      <td>False</td>\n",
       "      <td>900</td>\n",
       "      <td>ATGCACTACCGTATGATTCACTGGATGATGGAAATTGACTGCAATG...</td>\n",
       "    </tr>\n",
       "    <tr>\n",
       "      <th>1</th>\n",
       "      <td>ATGCACTACCGTATGATTCACTGGATGATGGAAATTGACTGCAATG...</td>\n",
       "      <td>False</td>\n",
       "      <td>897</td>\n",
       "      <td>ATGCACTACCGTATGATTCACTGGATGATGGAAATTGACTGCAATG...</td>\n",
       "    </tr>\n",
       "    <tr>\n",
       "      <th>2</th>\n",
       "      <td>ATGCACTACCGTATGATTCACTGGATGATGGAAATTGACTGCAATG...</td>\n",
       "      <td>False</td>\n",
       "      <td>900</td>\n",
       "      <td>ATGCACTACCGTATGATTCACTGGATGATGGAAATTGACTGCAATG...</td>\n",
       "    </tr>\n",
       "    <tr>\n",
       "      <th>3</th>\n",
       "      <td>ATGCACTACCGTATGATTCACTGGATGATGGAAATTGACTGCAATG...</td>\n",
       "      <td>False</td>\n",
       "      <td>900</td>\n",
       "      <td>ATGCACTACCGTATGATTCACTGGATGATGGAAATTGACTGCAATG...</td>\n",
       "    </tr>\n",
       "    <tr>\n",
       "      <th>4</th>\n",
       "      <td>ATGCACTACCGTATGATTCACTGGATGATGGAAATTGACTGCAATG...</td>\n",
       "      <td>True</td>\n",
       "      <td>904</td>\n",
       "      <td>ATGCACTACCGTATGATTCACTGGATGATGGAAATTGACTGCAATG...</td>\n",
       "    </tr>\n",
       "  </tbody>\n",
       "</table>\n",
       "</div>"
      ],
      "text/plain": [
       "                                                Gene  Resistance  Gene_length  \\\n",
       "0  ATGCACTACCGTATGATTCACTGGATGATGGAAATTGACTGCAATG...       False          900   \n",
       "1  ATGCACTACCGTATGATTCACTGGATGATGGAAATTGACTGCAATG...       False          897   \n",
       "2  ATGCACTACCGTATGATTCACTGGATGATGGAAATTGACTGCAATG...       False          900   \n",
       "3  ATGCACTACCGTATGATTCACTGGATGATGGAAATTGACTGCAATG...       False          900   \n",
       "4  ATGCACTACCGTATGATTCACTGGATGATGGAAATTGACTGCAATG...        True          904   \n",
       "\n",
       "                                         Gene_padded  \n",
       "0  ATGCACTACCGTATGATTCACTGGATGATGGAAATTGACTGCAATG...  \n",
       "1  ATGCACTACCGTATGATTCACTGGATGATGGAAATTGACTGCAATG...  \n",
       "2  ATGCACTACCGTATGATTCACTGGATGATGGAAATTGACTGCAATG...  \n",
       "3  ATGCACTACCGTATGATTCACTGGATGATGGAAATTGACTGCAATG...  \n",
       "4  ATGCACTACCGTATGATTCACTGGATGATGGAAATTGACTGCAATG...  "
      ]
     },
     "execution_count": 329,
     "metadata": {},
     "output_type": "execute_result"
    }
   ],
   "source": [
    "# Check the current dataframe\n",
    "df.head()"
   ]
  },
  {
   "cell_type": "code",
   "execution_count": 94,
   "metadata": {},
   "outputs": [
    {
     "data": {
      "text/plain": [
       "0    [0, 3, 2, 1, 0, 1, 3, 0, 1, 1, 2, 3, 0, 3, 2, ...\n",
       "1    [0, 3, 2, 1, 0, 1, 3, 0, 1, 1, 2, 3, 0, 3, 2, ...\n",
       "2    [0, 3, 2, 1, 0, 1, 3, 0, 1, 1, 2, 3, 0, 3, 2, ...\n",
       "3    [0, 3, 2, 1, 0, 1, 3, 0, 1, 1, 2, 3, 0, 3, 2, ...\n",
       "4    [0, 3, 2, 1, 0, 1, 3, 0, 1, 1, 2, 3, 0, 3, 2, ...\n",
       "Name: Gene_padded, dtype: object"
      ]
     },
     "execution_count": 94,
     "metadata": {},
     "output_type": "execute_result"
    }
   ],
   "source": [
    "# We cannot work with strings of characters. \n",
    "# We define a dictionary that translates each DNA base (plus a dummy base Q) to a number. \n",
    "char_to_int={\"A\": 0, \"C\": 1, \"G\":2, \"T\":3, \"Q\":4} \n",
    "def geneint(word):\n",
    "    return np.array([char_to_int[char] for char in word])\n",
    "gene_int=df.Gene_padded.apply(geneint)\n",
    "gene_int[:5]"
   ]
  },
  {
   "cell_type": "code",
   "execution_count": 330,
   "metadata": {},
   "outputs": [
    {
     "data": {
      "text/plain": [
       "array([[1., 0.],\n",
       "       [1., 0.],\n",
       "       [1., 0.],\n",
       "       [1., 0.],\n",
       "       [0., 1.]], dtype=float32)"
      ]
     },
     "execution_count": 330,
     "metadata": {},
     "output_type": "execute_result"
    }
   ],
   "source": [
    "# We one-hot encode the resistance column\n",
    "resistance_int=to_categorical(df.Resistance)\n",
    "resistance_int[:5]"
   ]
  },
  {
   "cell_type": "code",
   "execution_count": 333,
   "metadata": {},
   "outputs": [
    {
     "data": {
      "text/plain": [
       "(100000, 906)"
      ]
     },
     "execution_count": 333,
     "metadata": {},
     "output_type": "execute_result"
    }
   ],
   "source": [
    "# Reshaping each row to have 906 length-one vectors. \n",
    "x_input=np.stack(gene_int.values)\n",
    "x_input.shape"
   ]
  },
  {
   "cell_type": "code",
   "execution_count": 143,
   "metadata": {},
   "outputs": [],
   "source": [
    "# Making a 80%-20% train-test split.\n",
    "x_train, x_test, y_train, y_test = train_test_split(x_input.reshape(100000,906,1), np.asarray(resistance_int).reshape(100000,2), \n",
    "                                                    test_size=0.2, shuffle= True)\n"
   ]
  },
  {
   "cell_type": "code",
   "execution_count": null,
   "metadata": {},
   "outputs": [],
   "source": []
  },
  {
   "cell_type": "code",
   "execution_count": null,
   "metadata": {},
   "outputs": [],
   "source": [
    "# 5-fold cross-validation using RandomizedSearchCV from sklearn.\n",
    "# This requires a wrapper for the model. \n",
    "\n",
    "def create_model(filters1=5,filters2=10, kernel_size1=3, kernel_size2=3,units=32,optimizer=\"adam\",\n",
    "                     pool_size=2,activation=\"relu\"):\n",
    "    model = Sequential()\n",
    "    model.add(Conv1D(filters=filters1, kernel_size=kernel_size1, activation= activation, input_shape=(906,1)))\n",
    "    model.add(MaxPool1D(pool_size=pool_size))\n",
    "    model.add(Conv1D(filters=filters2, kernel_size=kernel_size2, activation= activation, input_shape=(906,1)))\n",
    "    model.add(MaxPool1D(pool_size=pool_size))\n",
    "    model.add(Flatten())\n",
    "    model.add(Dense(units=units, activation=\"relu\"))\n",
    "    model.add(Dense(2, activation=\"softmax\"))\n",
    "    model.compile(optimizer=optimizer, loss='categorical_crossentropy', metrics=['accuracy'])\n",
    "    return model\n",
    "\n",
    "\n",
    "cv_model = KerasClassifier(build_fn=create_model) \n",
    "\n",
    "\n",
    "\n",
    "# Perform the randomized search. \n",
    "# We try 10 different sets of parameter values. \n",
    "rs_model = RandomizedSearchCV( \n",
    "    cv_model,\n",
    "    param_distributions = {\"filters1\":randint(5,10), \n",
    "                           \"filters2\":randint(5,20),\n",
    "                           \"kernel_size1\":randint(2,10),\n",
    "                           \"kernel_size2\":randint(2,10),\n",
    "                           \"units\":[16,32,64],\n",
    "                           \"optimizer\":[\"adam\", \"nadam\", \"RMSprop\", \"SGD\"],\n",
    "                          \"pool_size\":randint(2,10)},\n",
    "    #scoring = 'accuracy',\n",
    "    n_iter = 10, \n",
    "    n_jobs= 1,\n",
    "    cv = 5,\n",
    "    random_state=42\n",
    ")\n",
    "rs_model.fit(x_train, y_train, epochs=20)"
   ]
  },
  {
   "cell_type": "code",
   "execution_count": 316,
   "metadata": {},
   "outputs": [
    {
     "data": {
      "text/html": [
       "<div>\n",
       "<style scoped>\n",
       "    .dataframe tbody tr th:only-of-type {\n",
       "        vertical-align: middle;\n",
       "    }\n",
       "\n",
       "    .dataframe tbody tr th {\n",
       "        vertical-align: top;\n",
       "    }\n",
       "\n",
       "    .dataframe thead th {\n",
       "        text-align: right;\n",
       "    }\n",
       "</style>\n",
       "<table border=\"1\" class=\"dataframe\">\n",
       "  <thead>\n",
       "    <tr style=\"text-align: right;\">\n",
       "      <th></th>\n",
       "      <th>rank_test_score</th>\n",
       "      <th>mean_test_score</th>\n",
       "      <th>std_test_score</th>\n",
       "      <th>param_filters1</th>\n",
       "      <th>param_kernel_size1</th>\n",
       "      <th>param_filters2</th>\n",
       "      <th>param_kernel_size2</th>\n",
       "      <th>param_pool_size</th>\n",
       "      <th>param_units</th>\n",
       "      <th>param_optimizer</th>\n",
       "    </tr>\n",
       "  </thead>\n",
       "  <tbody>\n",
       "    <tr>\n",
       "      <th>2</th>\n",
       "      <td>1</td>\n",
       "      <td>0.952800</td>\n",
       "      <td>0.029228</td>\n",
       "      <td>8</td>\n",
       "      <td>9</td>\n",
       "      <td>12</td>\n",
       "      <td>4</td>\n",
       "      <td>6</td>\n",
       "      <td>32</td>\n",
       "      <td>nadam</td>\n",
       "    </tr>\n",
       "    <tr>\n",
       "      <th>7</th>\n",
       "      <td>2</td>\n",
       "      <td>0.931325</td>\n",
       "      <td>0.042086</td>\n",
       "      <td>9</td>\n",
       "      <td>8</td>\n",
       "      <td>7</td>\n",
       "      <td>6</td>\n",
       "      <td>8</td>\n",
       "      <td>32</td>\n",
       "      <td>adam</td>\n",
       "    </tr>\n",
       "    <tr>\n",
       "      <th>4</th>\n",
       "      <td>3</td>\n",
       "      <td>0.912512</td>\n",
       "      <td>0.079763</td>\n",
       "      <td>5</td>\n",
       "      <td>3</td>\n",
       "      <td>16</td>\n",
       "      <td>7</td>\n",
       "      <td>5</td>\n",
       "      <td>16</td>\n",
       "      <td>adam</td>\n",
       "    </tr>\n",
       "    <tr>\n",
       "      <th>0</th>\n",
       "      <td>4</td>\n",
       "      <td>0.906438</td>\n",
       "      <td>0.053841</td>\n",
       "      <td>8</td>\n",
       "      <td>8</td>\n",
       "      <td>17</td>\n",
       "      <td>4</td>\n",
       "      <td>6</td>\n",
       "      <td>16</td>\n",
       "      <td>SGD</td>\n",
       "    </tr>\n",
       "    <tr>\n",
       "      <th>5</th>\n",
       "      <td>5</td>\n",
       "      <td>0.889413</td>\n",
       "      <td>0.028177</td>\n",
       "      <td>5</td>\n",
       "      <td>4</td>\n",
       "      <td>15</td>\n",
       "      <td>8</td>\n",
       "      <td>9</td>\n",
       "      <td>64</td>\n",
       "      <td>nadam</td>\n",
       "    </tr>\n",
       "    <tr>\n",
       "      <th>6</th>\n",
       "      <td>6</td>\n",
       "      <td>0.883850</td>\n",
       "      <td>0.060448</td>\n",
       "      <td>7</td>\n",
       "      <td>8</td>\n",
       "      <td>16</td>\n",
       "      <td>5</td>\n",
       "      <td>2</td>\n",
       "      <td>64</td>\n",
       "      <td>SGD</td>\n",
       "    </tr>\n",
       "    <tr>\n",
       "      <th>1</th>\n",
       "      <td>7</td>\n",
       "      <td>0.879150</td>\n",
       "      <td>0.034675</td>\n",
       "      <td>6</td>\n",
       "      <td>8</td>\n",
       "      <td>7</td>\n",
       "      <td>4</td>\n",
       "      <td>9</td>\n",
       "      <td>16</td>\n",
       "      <td>RMSprop</td>\n",
       "    </tr>\n",
       "    <tr>\n",
       "      <th>3</th>\n",
       "      <td>8</td>\n",
       "      <td>0.878838</td>\n",
       "      <td>0.054691</td>\n",
       "      <td>8</td>\n",
       "      <td>7</td>\n",
       "      <td>18</td>\n",
       "      <td>3</td>\n",
       "      <td>5</td>\n",
       "      <td>16</td>\n",
       "      <td>SGD</td>\n",
       "    </tr>\n",
       "    <tr>\n",
       "      <th>8</th>\n",
       "      <td>9</td>\n",
       "      <td>0.846037</td>\n",
       "      <td>0.120141</td>\n",
       "      <td>8</td>\n",
       "      <td>5</td>\n",
       "      <td>13</td>\n",
       "      <td>7</td>\n",
       "      <td>3</td>\n",
       "      <td>16</td>\n",
       "      <td>nadam</td>\n",
       "    </tr>\n",
       "    <tr>\n",
       "      <th>9</th>\n",
       "      <td>10</td>\n",
       "      <td>0.840225</td>\n",
       "      <td>0.023855</td>\n",
       "      <td>6</td>\n",
       "      <td>3</td>\n",
       "      <td>9</td>\n",
       "      <td>5</td>\n",
       "      <td>8</td>\n",
       "      <td>64</td>\n",
       "      <td>SGD</td>\n",
       "    </tr>\n",
       "  </tbody>\n",
       "</table>\n",
       "</div>"
      ],
      "text/plain": [
       "   rank_test_score  mean_test_score  std_test_score param_filters1  \\\n",
       "2                1         0.952800        0.029228              8   \n",
       "7                2         0.931325        0.042086              9   \n",
       "4                3         0.912512        0.079763              5   \n",
       "0                4         0.906438        0.053841              8   \n",
       "5                5         0.889413        0.028177              5   \n",
       "6                6         0.883850        0.060448              7   \n",
       "1                7         0.879150        0.034675              6   \n",
       "3                8         0.878838        0.054691              8   \n",
       "8                9         0.846037        0.120141              8   \n",
       "9               10         0.840225        0.023855              6   \n",
       "\n",
       "  param_kernel_size1 param_filters2 param_kernel_size2 param_pool_size  \\\n",
       "2                  9             12                  4               6   \n",
       "7                  8              7                  6               8   \n",
       "4                  3             16                  7               5   \n",
       "0                  8             17                  4               6   \n",
       "5                  4             15                  8               9   \n",
       "6                  8             16                  5               2   \n",
       "1                  8              7                  4               9   \n",
       "3                  7             18                  3               5   \n",
       "8                  5             13                  7               3   \n",
       "9                  3              9                  5               8   \n",
       "\n",
       "  param_units param_optimizer  \n",
       "2          32           nadam  \n",
       "7          32            adam  \n",
       "4          16            adam  \n",
       "0          16             SGD  \n",
       "5          64           nadam  \n",
       "6          64             SGD  \n",
       "1          16         RMSprop  \n",
       "3          16             SGD  \n",
       "8          16           nadam  \n",
       "9          64             SGD  "
      ]
     },
     "execution_count": 316,
     "metadata": {},
     "output_type": "execute_result"
    }
   ],
   "source": [
    "# Print the cross-validation result in a table \n",
    "pd.DataFrame(rs_model.cv_results_)[[\"rank_test_score\",\"mean_test_score\", \"std_test_score\",\"param_filters1\",\"param_kernel_size1\",\"param_filters2\",  \"param_kernel_size2\", \"param_pool_size\", \"param_units\",\"param_optimizer\"]].sort_values(\"rank_test_score\")"
   ]
  },
  {
   "cell_type": "code",
   "execution_count": 308,
   "metadata": {},
   "outputs": [
    {
     "name": "stdout",
     "output_type": "stream",
     "text": [
      "Best score obtained: 0.9528\n",
      "Parameters:\n",
      "\tfilters1: 8\n",
      "\tfilters2: 12\n",
      "\tkernel_size1: 9\n",
      "\tkernel_size2: 4\n",
      "\toptimizer: nadam\n",
      "\tpool_size: 6\n",
      "\tunits: 32\n"
     ]
    }
   ],
   "source": [
    "# Print the best parameters\n",
    "\n",
    "print('Parameters:')\n",
    "for param, value in rs_model.best_params_.items():\n",
    "    print('\\t{}: {}'.format(param, value))"
   ]
  },
  {
   "cell_type": "code",
   "execution_count": null,
   "metadata": {},
   "outputs": [],
   "source": []
  },
  {
   "cell_type": "code",
   "execution_count": 324,
   "metadata": {},
   "outputs": [],
   "source": [
    "# Build a model using the best parameters\n",
    "model = Sequential()\n",
    "model.add(Conv1D(filters=8, kernel_size=9, activation=\"relu\", input_shape=(906,1)))\n",
    "model.add(MaxPool1D(pool_size=6))\n",
    "model.add(Conv1D(filters=12, kernel_size=4, activation=\"relu\", input_shape=(906,1)))\n",
    "model.add(MaxPool1D(pool_size=6))\n",
    "model.add(Flatten())\n",
    "model.add(Dense(32, activation=\"relu\"))\n",
    "model.add(Dense(2, activation=\"softmax\"))\n",
    "model.compile(optimizer='nadam', loss='categorical_crossentropy', metrics=['accuracy'])"
   ]
  },
  {
   "cell_type": "code",
   "execution_count": 319,
   "metadata": {},
   "outputs": [
    {
     "name": "stdout",
     "output_type": "stream",
     "text": [
      "_________________________________________________________________\n",
      "Layer (type)                 Output Shape              Param #   \n",
      "=================================================================\n",
      "conv1d_192 (Conv1D)          (None, 898, 8)            80        \n",
      "_________________________________________________________________\n",
      "max_pooling1d_186 (MaxPoolin (None, 149, 8)            0         \n",
      "_________________________________________________________________\n",
      "conv1d_193 (Conv1D)          (None, 146, 12)           396       \n",
      "_________________________________________________________________\n",
      "max_pooling1d_187 (MaxPoolin (None, 24, 12)            0         \n",
      "_________________________________________________________________\n",
      "flatten_128 (Flatten)        (None, 288)               0         \n",
      "_________________________________________________________________\n",
      "dense_194 (Dense)            (None, 32)                9248      \n",
      "_________________________________________________________________\n",
      "dense_195 (Dense)            (None, 2)                 66        \n",
      "=================================================================\n",
      "Total params: 9,790\n",
      "Trainable params: 9,790\n",
      "Non-trainable params: 0\n",
      "_________________________________________________________________\n"
     ]
    }
   ],
   "source": [
    "model.summary()"
   ]
  },
  {
   "cell_type": "code",
   "execution_count": null,
   "metadata": {},
   "outputs": [],
   "source": [
    "early=EarlyStopping(patience=3)\n",
    "history=model.fit(x_train, y_train, validation_data=(x_test, y_test), epochs=30, callbacks=[early])"
   ]
  },
  {
   "cell_type": "code",
   "execution_count": 334,
   "metadata": {},
   "outputs": [
    {
     "name": "stdout",
     "output_type": "stream",
     "text": [
      "[0.77625, 0.84695, 0.93885, 0.877, 0.94885, 0.87795, 0.9591, 0.95995, 0.9618, 0.9194, 0.96775, 0.88555, 0.97095, 0.9756, 0.9719, 0.9754, 0.97125, 0.97605, 0.9803, 0.9414, 0.97575, 0.9713]\n"
     ]
    }
   ],
   "source": [
    "print(history.history[\"val_acc\"])"
   ]
  },
  {
   "cell_type": "code",
   "execution_count": 326,
   "metadata": {},
   "outputs": [
    {
     "data": {
      "image/png": "[encoded data removed]",
      "text/plain": [
       "<Figure size 432x288 with 1 Axes>"
      ]
     },
     "metadata": {
      "needs_background": "light"
     },
     "output_type": "display_data"
    }
   ],
   "source": [
    "plt.plot(range(1,23),history.history[\"acc\"], label=\"train\")\n",
    "plt.plot(range(1,23),history.history[\"val_acc\"], label=\"validate\")\n",
    "plt.xlabel(\"Epochs\")\n",
    "plt.ylabel(\"Accuracy\")\n",
    "plt.legend()\n",
    "plt.show()"
   ]
  },
  {
   "cell_type": "code",
   "execution_count": 335,
   "metadata": {},
   "outputs": [
    {
     "name": "stdout",
     "output_type": "stream",
     "text": [
      "20000/20000 [==============================] - 5s 237us/step\n",
      "acc: 97.13%\n"
     ]
    }
   ],
   "source": [
    "scores=model.evaluate(x_test, y_test)\n",
    "print(\"%s: %.2f%%\" % (model.metrics_names[1], scores[1]*100))"
   ]
  }
 ],
 "metadata": {
  "kernelspec": {
   "display_name": "Python 3",
   "language": "python",
   "name": "python3"
  },
  "language_info": {
   "codemirror_mode": {
    "name": "ipython",
    "version": 3
   },
   "file_extension": ".py",
   "mimetype": "text/x-python",
   "name": "python",
   "nbconvert_exporter": "python",
   "pygments_lexer": "ipython3",
   "version": "3.6.8"
  }
 },
 "nbformat": 4,
 "nbformat_minor": 2
}
